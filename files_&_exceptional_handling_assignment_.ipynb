{
  "nbformat": 4,
  "nbformat_minor": 0,
  "metadata": {
    "colab": {
      "provenance": []
    },
    "kernelspec": {
      "name": "python3",
      "display_name": "Python 3"
    },
    "language_info": {
      "name": "python"
    }
  },
  "cells": [
    {
      "cell_type": "markdown",
      "source": [
        "1. What is the difference between interpreted and compiled languages ?"
      ],
      "metadata": {
        "id": "BlbaovlWcDnQ"
      }
    },
    {
      "cell_type": "code",
      "source": [
        "# Ans - The main difference between interpreted and compiled languages lies in how the code you write is executed by the computer.\n",
        "\n",
        "# Compiled Languages:\n",
        "#  - the user language converting to machine language is all done by a compiler and than called the copiled language.\n",
        "#  - it has faster excution becouse machine code is already available in computer.\n",
        "#  - You get an executable file (.exe, .out)\n",
        "#  - An Errors are caught during compilation.\n",
        "#  - Due to compiled for specific OS not portable.\n",
        "\n",
        "# Interpreted Languages:\n",
        "#  - The user code is run line-by-line by an interpreter without being precompiled into machine code.\n",
        "#  - lower execution due to interpretation line-by-line.\n",
        "#  - No standalone executable is generated\n",
        "#  - Easier to debug and test small parts of code\n",
        "#  - Errors are caught during execution.\n",
        "#  - More portable (just need the interpreter)\n"
      ],
      "metadata": {
        "id": "_pmaCJ57cIQ_"
      },
      "execution_count": null,
      "outputs": []
    },
    {
      "cell_type": "markdown",
      "source": [
        "2. What is exception handling in Python ?"
      ],
      "metadata": {
        "id": "Nbbo0mJGI56h"
      }
    },
    {
      "cell_type": "code",
      "source": [
        "# Ans - Exception handling in Python is the process of responding to the occurrence of exceptions (errors) during\n",
        "# the execution of a program by using constructs like try, except, else, and finally to gracefully handle errors and maintain the normal flow of the program."
      ],
      "metadata": {
        "id": "35L_2mdXJCKr"
      },
      "execution_count": null,
      "outputs": []
    },
    {
      "cell_type": "markdown",
      "source": [
        "3. What is the purpose of the finally block in exception handling ?"
      ],
      "metadata": {
        "id": "fswPgFMxJPed"
      }
    },
    {
      "cell_type": "code",
      "source": [
        "# Ans - The finally block in exception handling is used to define a set of statements that will always be executed,\n",
        "# regardless of whether an exception was raised or not, ensuring necessary cleanup actions are performed."
      ],
      "metadata": {
        "id": "lRdCNgfIJk80"
      },
      "execution_count": null,
      "outputs": []
    },
    {
      "cell_type": "markdown",
      "source": [
        "4. What is logging in Python ?"
      ],
      "metadata": {
        "id": "iTlmladyNXTy"
      }
    },
    {
      "cell_type": "code",
      "source": [
        "# Ans - Logging in Python is the process of recording messages that describe events that occur during the execution of a program,\n",
        "# which helps in debugging, monitoring, and tracking the flow and state of the application."
      ],
      "metadata": {
        "id": "eVFVk_6zNdGq"
      },
      "execution_count": null,
      "outputs": []
    },
    {
      "cell_type": "markdown",
      "source": [
        "5.  What is the significance of the __del__ method in Python ?"
      ],
      "metadata": {
        "id": "fe1EJx30NjPg"
      }
    },
    {
      "cell_type": "code",
      "source": [
        "# Ans - The __del__ method in Python is a special method called a destructor, which is automatically invoked when an object is about to be destroyed,\n",
        "# allowing you to define cleanup actions like closing files or releasing resources."
      ],
      "metadata": {
        "id": "zduDtqzoNoyB"
      },
      "execution_count": null,
      "outputs": []
    },
    {
      "cell_type": "markdown",
      "source": [
        "6.  What is the difference between import and from ... import in Python ?"
      ],
      "metadata": {
        "id": "GWI_rAVLNzO6"
      }
    },
    {
      "cell_type": "code",
      "source": [
        "# Ans - import :\n",
        "#  - Imports the entire module.\n",
        "\n",
        "# ... import:\n",
        "# Imports specific items (functions, classes, variables) directly from the module."
      ],
      "metadata": {
        "id": "N54oPZkMN4ta"
      },
      "execution_count": null,
      "outputs": []
    },
    {
      "cell_type": "markdown",
      "source": [
        "7. How can you handle multiple exceptions in Python ?"
      ],
      "metadata": {
        "id": "-WTjan6VPsuU"
      }
    },
    {
      "cell_type": "code",
      "source": [
        "# Ans - multiple exceptions can be handled using a single try block followed by multiple except blocks, each specifying a different exception type.\n",
        "# his allows the program to handle different types of errors in a structured way."
      ],
      "metadata": {
        "id": "56VymQkUPn7z"
      },
      "execution_count": null,
      "outputs": []
    },
    {
      "cell_type": "markdown",
      "source": [
        "8. What is the purpose of the with statement when handling files in Python\n"
      ],
      "metadata": {
        "id": "30DOPWxqPwNi"
      }
    },
    {
      "cell_type": "code",
      "source": [
        "# Ans - The with statement in Python is used to handle file operations efficiently by ensuring that the file is properly closed after its suite finishes,\n",
        "# even if an exception is raised, thus simplifying resource management"
      ],
      "metadata": {
        "id": "QIxow74oP4pH"
      },
      "execution_count": null,
      "outputs": []
    },
    {
      "cell_type": "markdown",
      "source": [
        "9. What is the difference between multithreading and multiprocessing ?"
      ],
      "metadata": {
        "id": "S7ZP3rxml-tb"
      }
    },
    {
      "cell_type": "code",
      "source": [
        "# Ans - Multithreading:\n",
        "#  - It allows multiple thread for one process\n",
        "#  - All thread share one memory\n",
        "#  - It’s best for tasks that spend a lot of time waiting, like file operations, downloading data, or user input\n",
        "#  - Only one thread can run Python code at a time\n",
        "\n",
        "# Multiprocessing:\n",
        "#  - It allows multiple processes to run in parallel. Each process has its own memory and runs independently.\n",
        "#  - It’s best for tasks that require heavy computation\n",
        "#  - Since each process has its own Python interpreter, it avoids the GIL and can truly run in parallel on multiple CPU cores.\n",
        "#  - It's heavier in terms of memory and slower to start than threads."
      ],
      "metadata": {
        "id": "ckL3wTUv_-yX"
      },
      "execution_count": null,
      "outputs": []
    },
    {
      "cell_type": "markdown",
      "source": [
        "10. What are the advantages of using logging in a program ?"
      ],
      "metadata": {
        "id": "4izD7nvBBGhv"
      }
    },
    {
      "cell_type": "code",
      "source": [
        "# Ans - Using logging in a program provides several important advantages.\n",
        "# - It makes debugging much easier by recording the sequence of events in your code, helping you understand what happened before an error occurred.\n",
        "# - Unlike simple print statements, logging offers more control through different log levels such as DEBUG, INFO, WARNING, ERROR, and CRITICAL.\n",
        "# - This allows filter messages based on importance and direct them to files, consoles, or other destinations.\n",
        "# - Logging also keeps a permanent record of application behavior, which is especially useful for reviewing issues in production environments.\n",
        "# - It helps monitor the application's performance and health without interrupting its execution."
      ],
      "metadata": {
        "id": "oPIKjlABBNHQ"
      },
      "execution_count": null,
      "outputs": []
    },
    {
      "cell_type": "markdown",
      "source": [
        "11. What is memory management in Python ?"
      ],
      "metadata": {
        "id": "eYLpu4IfCG48"
      }
    },
    {
      "cell_type": "code",
      "source": [
        "# Ans - Memory management in Python is automatic and handled by a built-in memory manager and garbage collector.\n",
        "# It uses reference counting to track objects and frees memory when objects are no longer used.\n",
        "# Python also uses private heap space and pymalloc for efficient memory allocation, simplifying memory handling for developers."
      ],
      "metadata": {
        "id": "trjiL9N4CMlu"
      },
      "execution_count": null,
      "outputs": []
    },
    {
      "cell_type": "markdown",
      "source": [
        "12.  What are the basic steps involved in exception handling in Python ?"
      ],
      "metadata": {
        "id": "viq_m1eQCkJl"
      }
    },
    {
      "cell_type": "code",
      "source": [
        "# Ans - The basic steps involved in exception handling in Python are:\n",
        "# 1. Try Block: Place the code that may cause an exception inside a try block.\n",
        "# 2. Except Block: Handle the exception using one or more except blocks.\n",
        "# 3. Else Block (optional): Run code if no exceptions occur.\n",
        "# 4. Finally Block (optional): Execute code that should run no matter what, like cleanup actions.\n",
        "\n"
      ],
      "metadata": {
        "id": "pEaO2hglCzNb"
      },
      "execution_count": null,
      "outputs": []
    },
    {
      "cell_type": "markdown",
      "source": [
        "13. Why is memory management important in Python ?"
      ],
      "metadata": {
        "id": "S7xyxgovDI4R"
      }
    },
    {
      "cell_type": "code",
      "source": [
        "# Ans - Memory management is important in Python to ensure efficient use of system resources, prevent memory leaks, and maintain application performance.\n",
        "# It helps the program run smoothly by automatically allocating and freeing memory when needed. Proper memory management also reduces the risk of crashes and ensures that applications scale effectively."
      ],
      "metadata": {
        "id": "Tkb9fLsxDRQV"
      },
      "execution_count": null,
      "outputs": []
    },
    {
      "cell_type": "markdown",
      "source": [
        "14.  What is the role of try and except in exception handling"
      ],
      "metadata": {
        "id": "no2bVYvuDYhJ"
      }
    },
    {
      "cell_type": "code",
      "source": [
        "# Ans - The try and except blocks in Python are used for exception handling.\n",
        "# The try and except blocks in Python are used for exception handling.\n",
        "# f an error occurs, the except block catches and handles the exception, preventing the program from crashing. This allows the program to continue running smoothly even when errors occur."
      ],
      "metadata": {
        "id": "bbF1IsmLDd5u"
      },
      "execution_count": null,
      "outputs": []
    },
    {
      "cell_type": "markdown",
      "source": [
        "15.  How does Python's garbage collection system work ?"
      ],
      "metadata": {
        "id": "oH-XhEWcDpEX"
      }
    },
    {
      "cell_type": "code",
      "source": [
        "# Ans - Python's garbage collection system works by automatically freeing memory used by objects that are no longer needed.\n",
        "#  It mainly uses reference counting—each object keeps track of how many references point to it. When the count reaches zero, the memory is released.\n",
        "#  Python also uses a cyclic garbage collector to detect and clean up groups of objects that reference each other but are no longer accessible.\n",
        "#  This combination helps manage memory efficiently and prevents memory leaks.\n"
      ],
      "metadata": {
        "id": "1ymLGpjODutL"
      },
      "execution_count": null,
      "outputs": []
    },
    {
      "cell_type": "markdown",
      "source": [
        "16. What is the purpose of the else block in exception handling ?"
      ],
      "metadata": {
        "id": "kz3yaW6ND7eS"
      }
    },
    {
      "cell_type": "code",
      "source": [
        "# Ans - The else block in exception handling is executed if no exceptions occur in the try block. It allows you to define code that should run only when the try block completes successfully without any errors.\n",
        "# It’s useful for actions that should happen only when no exceptions are raised, such as finalizing results or processing data after a successful operation."
      ],
      "metadata": {
        "id": "MVhu5IQTEDla"
      },
      "execution_count": null,
      "outputs": []
    },
    {
      "cell_type": "markdown",
      "source": [
        "17.  What are the common logging levels in Python ?"
      ],
      "metadata": {
        "id": "DPxWuit3GIna"
      }
    },
    {
      "cell_type": "code",
      "source": [
        "# Ans - The common logging levels in Python are:\n",
        "# 1. DEBUG: Detailed information, typically useful for diagnosing problems during development.\n",
        "# 2. INFO: General information about program execution, like milestones or successful operations.\n",
        "# 3. WARNING: Indications that something unexpected happened, but the program is still functioning.\n",
        "# 4. ERROR: Indicates a more serious issue that prevented some part of the program from working.\n",
        "# 5. CRITICAL: A severe error that may cause the program to stop or fail completely.\n"
      ],
      "metadata": {
        "id": "J_kqvyfXGUSB"
      },
      "execution_count": null,
      "outputs": []
    },
    {
      "cell_type": "markdown",
      "source": [
        "18. What is the difference between os.fork() and multiprocessing in Python ?"
      ],
      "metadata": {
        "id": "Vrxm4yV7GnXU"
      }
    },
    {
      "cell_type": "code",
      "source": [
        "# Ans - The difference between os.fork() and multiprocessing in Python lies in how they handle process creation and management:\n",
        "\n",
        "# os.fork():\n",
        "#  - Directly creates a new process by duplicating the calling process.\n",
        "#  - Available only on Unix-like systems (Linux, macOS), not on Windows.\n",
        "#  - The child process inherits the parent’s memory and resources, which can lead to issues in certain cases.\n",
        "#  - Less flexible, as it doesn’t provide tools for easy communication or process management.\n",
        "\n",
        "# multiprocessing:\n",
        "#  - A higher-level module that abstracts process creation and management.\n",
        "#  - Works on both Unix and Windows.\n",
        "#  - Offers features like process synchronization, inter-process communication (IPC), and shared memory, making it easier to manage multiple processes.\n",
        "#  - Ideal for parallel execution of CPU-bound tasks."
      ],
      "metadata": {
        "id": "_ORxMK0iGvyY"
      },
      "execution_count": null,
      "outputs": []
    },
    {
      "cell_type": "markdown",
      "source": [
        "19. What is the importance of closing a file in Python"
      ],
      "metadata": {
        "id": "6_Lz6tIKHVe4"
      }
    },
    {
      "cell_type": "code",
      "source": [
        "# Ans - Closing a file in Python is important to ensure that all changes made to the file are properly saved and resources are released. When a file is open, it consumes system resources like memory and file handles. By closing the file using file.close(),\n",
        "# Python ensures that data is flushed to the disk, preventing potential data loss and avoiding resource leaks that could lead to performance issues or errors in your program."
      ],
      "metadata": {
        "id": "e0Uv8Bp3Hask"
      },
      "execution_count": null,
      "outputs": []
    },
    {
      "cell_type": "markdown",
      "source": [
        "20.  What is the difference between file.read() and file.readline() in Python"
      ],
      "metadata": {
        "id": "4eRlZ_5pHi2c"
      }
    },
    {
      "cell_type": "code",
      "source": [
        "# Ans. The difference between file.read() and file.readline() in Python lies in how they read the file:\n",
        "\n",
        "# file.read():\n",
        "# Reads the entire contents of the file at once.\n",
        "# Returns the content as a single string.\n",
        "# Useful for reading smaller files or when you need all the data at once.\n",
        "\n",
        "# file.readline():\n",
        "# Reads one line at a time from the file.\n",
        "# Returns a single line as a string, including the newline character at the end.\n",
        "# Useful for reading large files line-by-line, preventing memory overload by not loading the entire file into memory."
      ],
      "metadata": {
        "id": "m6o8V9zRHrpc"
      },
      "execution_count": null,
      "outputs": []
    },
    {
      "cell_type": "markdown",
      "source": [
        "21.  What is the logging module in Python used for"
      ],
      "metadata": {
        "id": "igqiWoA7H3va"
      }
    },
    {
      "cell_type": "code",
      "source": [
        "# Ans - The logging module in Python is used for tracking events that occur during the execution of a program.\n",
        "#  It provides a flexible framework for adding logging capabilities, which can help developers monitor program behavior, diagnose issues, and keep records of runtime events.\n",
        "#  The main benefits of the logging module include:\n",
        "# Tracking and debugging: Helps developers trace program flow and errors.\n",
        "# Configurability: You can customize the logging format, level, and destination.\n",
        "# Performance: It can log asynchronously without significantly impacting program performance."
      ],
      "metadata": {
        "id": "tDJzbYztH97r"
      },
      "execution_count": null,
      "outputs": []
    },
    {
      "cell_type": "markdown",
      "source": [
        "22. What is the os module in Python used for in file handling ?"
      ],
      "metadata": {
        "id": "l9Ibj9wWIQq2"
      }
    },
    {
      "cell_type": "code",
      "source": [
        "# The os module in Python is used for interacting with the operating system, and it provides several functions that are useful for file handling. Some key functionalities in file handling include:\n",
        "\n",
        "# Creating, Removing, and Renaming Files/Directories:\n",
        "# - os.mkdir() – Creates a new directory.\n",
        "# - os.remove() – Deletes a file.\n",
        "# - os.rename() – Renames a file or directory.\n",
        "\n",
        "# Path Manipulation:\n",
        "# - os.path.join() – Joins one or more path components, ensuring correct path formatting across platforms.\n",
        "# - os.path.exists() – Checks if a file or directory exists.\n",
        "# - os.path.isfile() – Checks if a specified path is a file.\n",
        "# - os.path.isdir() – Checks if a specified path is a directory.\n",
        "\n",
        "# Directory Listing:\n",
        "# - os.listdir() – Lists all files and directories in a specified directory.\n",
        "\n",
        "# Changing Directories:\n",
        "# - os.chdir() – Changes the current working directory.\n",
        "# - os.getcwd() – Returns the current working directory.\n",
        "\n",
        "# Permissions and Metadata:\n",
        "# - os.chmod() – Changes the permissions of a file.\n",
        "# - os.stat() – Retrieves information about a file, like size, creation time, etc.\"\"\"\n",
        "\n",
        "\n"
      ],
      "metadata": {
        "id": "hiboaaw3IVb2"
      },
      "execution_count": 4,
      "outputs": []
    },
    {
      "cell_type": "markdown",
      "source": [
        "23. What are the challenges associated with memory management in Python ?"
      ],
      "metadata": {
        "id": "r2I1CHpqLW8W"
      }
    },
    {
      "cell_type": "code",
      "source": [
        "# Ans - The challenges associated with memory management in Python include:\n",
        "# 1. Garbage Collection Overhead: Python’s automatic garbage collector may run unexpectedly, causing performance slowdowns in large or time-sensitive applications.\n",
        "# 2. Memory Leaks: Improper reference handling, especially in complex applications, can prevent unused objects from being collected, leading to memory leaks.\n",
        "# 3. Reference Cycles: Objects referencing each other can create cycles that are not handled by reference counting alone, requiring additional cleanup by the garbage collector.\n",
        "# 4. Global Interpreter Lock (GIL): In CPython, the GIL limits true parallel execution of threads, affecting memory usage and efficiency in multi-threaded applications.\n",
        "# 5. High Memory Usage: Python is a high-level language and can consume more memory compared to low-level languages, especially when handling large datasets or many objects.\n",
        "# 6. Manual Resource Management: Files, sockets, or external resources still need to be manually closed or released, which, if forgotten, can cause memory and resource issues.\n"
      ],
      "metadata": {
        "id": "oZk3Y1FoLcS2"
      },
      "execution_count": null,
      "outputs": []
    },
    {
      "cell_type": "markdown",
      "source": [
        "24. How do you raise an exception manually in Python ?"
      ],
      "metadata": {
        "id": "ySpgI0nmLxdb"
      }
    },
    {
      "cell_type": "code",
      "source": [
        "# In Python, exceptions can be raised manually using the raise keyword. This is done to intentionally trigger an error when a certain condition occurs in the program.\n",
        "# You can raise built-in exceptions like ValueError or create and raise custom exceptions by defining a class that inherits from the Exception class.\n",
        "# This helps in stopping program execution at specific points and allows you to handle errors in a controlled and"
      ],
      "metadata": {
        "id": "GTnJGHjJL2V7"
      },
      "execution_count": null,
      "outputs": []
    },
    {
      "cell_type": "markdown",
      "source": [
        "25. Why is it important to use multithreading in certain applications?"
      ],
      "metadata": {
        "id": "HYw5TNo5MIis"
      }
    },
    {
      "cell_type": "code",
      "source": [
        "# Multithreading is important in certain applications because it allows multiple tasks to run concurrently within the same program, improving efficiency and responsiveness.\n",
        "# It is especially useful for I/O-bound operations like reading files, handling user input, or network communication, where the program would otherwise wait idly.\n",
        "# By using threads, these tasks can be performed in the background without blocking the main program.\n",
        "# This results in faster execution, better resource utilization, and a smoother user experience, especially in real-time or interactive applications."
      ],
      "metadata": {
        "id": "XFp-6rGdMQX4"
      },
      "execution_count": null,
      "outputs": []
    },
    {
      "cell_type": "markdown",
      "source": [
        "# Practical Questions"
      ],
      "metadata": {
        "id": "B59L9RhNMep9"
      }
    },
    {
      "cell_type": "markdown",
      "source": [
        "1.  How can you open a file for writing in Python and write a string to it ?"
      ],
      "metadata": {
        "id": "2ChpEu3vMm6o"
      }
    },
    {
      "cell_type": "code",
      "source": [
        "# To open a file for writing in Python and write a string to it, you use the open() function with the 'w' mode, and then use the write() method.\n",
        "with open('example.txt', 'w') as file:\n",
        "    file.write(\"Hello, this is a sample text.\")"
      ],
      "metadata": {
        "id": "LV4X6290M2UW"
      },
      "execution_count": 5,
      "outputs": []
    },
    {
      "cell_type": "markdown",
      "source": [
        "2. Write a Python program to read the contents of a file and print each line"
      ],
      "metadata": {
        "id": "E28ImASbM754"
      }
    },
    {
      "cell_type": "code",
      "source": [
        "# Open the file in read mode\n",
        "with open('example.txt', 'r') as file:\n",
        "    # Read and print each line\n",
        "    for line in file:\n",
        "        print(line.strip())  # strip() removes any extra newline or spaces"
      ],
      "metadata": {
        "colab": {
          "base_uri": "https://localhost:8080/"
        },
        "id": "tXRURN1dNBef",
        "outputId": "d79c4f42-7ca0-4759-f72a-4c94eb8d75f5"
      },
      "execution_count": 6,
      "outputs": [
        {
          "output_type": "stream",
          "name": "stdout",
          "text": [
            "Hello, this is a sample text.\n"
          ]
        }
      ]
    },
    {
      "cell_type": "markdown",
      "source": [
        "3. How would you handle a case where the file doesn't exist while trying to open it for reading"
      ],
      "metadata": {
        "id": "MU2G5L1ONKNJ"
      }
    },
    {
      "cell_type": "code",
      "source": [
        "try:\n",
        "    with open('example.txt', 'r') as file:\n",
        "        for line in file:\n",
        "            print(line.strip())\n",
        "except FileNotFoundError:\n",
        "    print(\"The file does not exist. Please check the filename and try again.\")"
      ],
      "metadata": {
        "colab": {
          "base_uri": "https://localhost:8080/"
        },
        "id": "7WXTuu44NM6V",
        "outputId": "e3e50922-a14f-489c-8288-58379ee499bb"
      },
      "execution_count": 7,
      "outputs": [
        {
          "output_type": "stream",
          "name": "stdout",
          "text": [
            "Hello, this is a sample text.\n"
          ]
        }
      ]
    },
    {
      "cell_type": "markdown",
      "source": [
        "4.  Write a Python script that reads from one file and writes its content to another file"
      ],
      "metadata": {
        "id": "-K5OaCNvNQkw"
      }
    },
    {
      "cell_type": "code",
      "source": [
        "# Read from source file and write to destination file\n",
        "try:\n",
        "    with open('source.txt', 'r') as source_file:\n",
        "        content = source_file.read()\n",
        "\n",
        "    with open('destination.txt', 'w') as dest_file:\n",
        "        dest_file.write(content)\n",
        "\n",
        "    print(\"Content copied successfully.\")\n",
        "except FileNotFoundError:\n",
        "    print(\"Source file not found. Please check the filename.\")"
      ],
      "metadata": {
        "id": "pWn-0vnRNVEA"
      },
      "execution_count": null,
      "outputs": []
    },
    {
      "cell_type": "markdown",
      "source": [
        "5. How would you catch and handle division by zero error in Python"
      ],
      "metadata": {
        "id": "nqa_7NASNXZu"
      }
    },
    {
      "cell_type": "code",
      "source": [
        "try:\n",
        "    result = 10 / 0\n",
        "except ZeroDivisionError:\n",
        "    print(\"Cannot divide by zero.\")"
      ],
      "metadata": {
        "id": "JxBLqGWgNcba"
      },
      "execution_count": null,
      "outputs": []
    },
    {
      "cell_type": "markdown",
      "source": [
        "6. Write a Python program that logs an error message to a log file when a division by zero exception occurs ?"
      ],
      "metadata": {
        "id": "CM7AZdt9NgdA"
      }
    },
    {
      "cell_type": "code",
      "source": [
        "import logging\n",
        "\n",
        "# Configure logging\n",
        "logging.basicConfig(filename='error.log', level=logging.ERROR, format='%(asctime)s - %(levelname)s - %(message)s')\n",
        "\n",
        "# Try dividing and log error if division by zero occurs\n",
        "try:\n",
        "    result = 10 / 0\n",
        "except ZeroDivisionError as e:\n",
        "    logging.error(\"Division by zero occurred: %s\", e)"
      ],
      "metadata": {
        "colab": {
          "base_uri": "https://localhost:8080/"
        },
        "id": "bQdphlhwNsE-",
        "outputId": "0b02042c-660d-4107-ce77-f619c77b4cb9"
      },
      "execution_count": 8,
      "outputs": [
        {
          "output_type": "stream",
          "name": "stderr",
          "text": [
            "ERROR:root:Division by zero occurred: division by zero\n"
          ]
        }
      ]
    },
    {
      "cell_type": "markdown",
      "source": [
        "7. How do you log information at different levels (INFO, ERROR, WARNING) in Python using the logging module"
      ],
      "metadata": {
        "id": "1HA3f4RaNwPZ"
      }
    },
    {
      "cell_type": "code",
      "source": [
        "import logging\n",
        "\n",
        "# Configure logging to write to a file\n",
        "logging.basicConfig(filename='app.log', level=logging.DEBUG, format='%(asctime)s - %(levelname)s - %(message)s')\n",
        "\n",
        "# Log messages at different levels\n",
        "logging.debug(\"This is a DEBUG message\")\n",
        "logging.info(\"This is an INFO message\")\n",
        "logging.warning(\"This is a WARNING message\")\n",
        "logging.error(\"This is an ERROR message\")\n",
        "logging.critical(\"This is a CRITICAL message\")"
      ],
      "metadata": {
        "id": "ZYdQaIflN1QS"
      },
      "execution_count": null,
      "outputs": []
    },
    {
      "cell_type": "markdown",
      "source": [
        "8. Write a program to handle a file opening error using exception handling"
      ],
      "metadata": {
        "id": "tCD17sbjN6kB"
      }
    },
    {
      "cell_type": "code",
      "source": [
        "try:\n",
        "    # Try opening a file that might not exist\n",
        "    with open('non_existent_file.txt', 'r') as file:\n",
        "        content = file.read()\n",
        "        print(content)\n",
        "except FileNotFoundError:\n",
        "    print(\"Error: The file you are trying to open does not exist.\")\n",
        "except IOError:\n",
        "    print(\"Error: There was an issue with the file input/output.\")"
      ],
      "metadata": {
        "id": "9lW7_FLSOAob"
      },
      "execution_count": null,
      "outputs": []
    },
    {
      "cell_type": "markdown",
      "source": [
        "9. How can you read a file line by line and store its content in a list in Python"
      ],
      "metadata": {
        "id": "BJuj-a-6ODXL"
      }
    },
    {
      "cell_type": "code",
      "source": [
        "# You can read a file line by line and store its content in a list in Python by using a for loop along with the open() function. Here's an example:\n",
        "\n",
        "# Initialize an empty list to store the file content\n",
        "lines = []\n",
        "\n",
        "# Open the file for reading\n",
        "with open('example.txt', 'r') as file:\n",
        "    # Read each line and append it to the list\n",
        "    for line in file:\n",
        "        lines.append(line.strip())  # .strip() removes extra newlines or spaces\n",
        "\n",
        "# Print the content of the list\n",
        "print(lines)"
      ],
      "metadata": {
        "id": "98e53-BbQM-M"
      },
      "execution_count": null,
      "outputs": []
    },
    {
      "cell_type": "markdown",
      "source": [
        "10. How can you append data to an existing file in Python ?"
      ],
      "metadata": {
        "id": "-9LbfdrLRbI9"
      }
    },
    {
      "cell_type": "code",
      "source": [
        "# Open the file in append mode\n",
        "with open('example.txt', 'a') as file:\n",
        "    # Write data to the file\n",
        "    file.write(\"This is the new data being appended to the file.\\n\")\n",
        "\n",
        "print(\"Data appended successfully.\")"
      ],
      "metadata": {
        "id": "9lYzHcPKRgw_"
      },
      "execution_count": null,
      "outputs": []
    },
    {
      "cell_type": "markdown",
      "source": [
        "11. Write a Python program that uses a try-except block to handle an error when attempting to access a\n",
        "dictionary key that doesn't exist"
      ],
      "metadata": {
        "id": "Sc3n-AmzRmaV"
      }
    },
    {
      "cell_type": "code",
      "source": [
        "# Sample dictionary\n",
        "my_dict = {\"name\": \"John\", \"age\": 30}\n",
        "\n",
        "# Try to access a key that doesn't exist\n",
        "try:\n",
        "    value = my_dict[\"address\"]\n",
        "except KeyError:\n",
        "    print(\"Error: The key 'address' does not exist in the dictionary.\")"
      ],
      "metadata": {
        "id": "HccMfV2DRqlB"
      },
      "execution_count": null,
      "outputs": []
    },
    {
      "cell_type": "markdown",
      "source": [
        "12. Write a program that demonstrates using multiple except blocks to handle different types of exceptions"
      ],
      "metadata": {
        "id": "wlsJTim_Rwn5"
      }
    },
    {
      "cell_type": "code",
      "source": [
        "try:\n",
        "    # Example code that might raise different exceptions\n",
        "    num = int(input(\"Enter a number: \"))\n",
        "    result = 10 / num\n",
        "    my_list = [1, 2, 3]\n",
        "    print(my_list[num])  # This may raise IndexError\n",
        "\n",
        "except ZeroDivisionError:\n",
        "    print(\"Error: Cannot divide by zero.\")\n",
        "except ValueError:\n",
        "    print(\"Error: Invalid input. Please enter a valid number.\")\n",
        "except IndexError:\n",
        "    print(\"Error: Index out of range.\")\n",
        "except Exception as e:\n",
        "    print(f\"An unexpected error occurred: {e}\")"
      ],
      "metadata": {
        "id": "eh3zpS8qR1qw"
      },
      "execution_count": null,
      "outputs": []
    },
    {
      "cell_type": "markdown",
      "source": [
        "13. F How would you check if a file exists before attempting to read it in Python"
      ],
      "metadata": {
        "id": "i0eroul6R4Yk"
      }
    },
    {
      "cell_type": "code",
      "source": [
        "import os\n",
        "\n",
        "# Check if the file exists before reading\n",
        "file_path = 'example.txt'\n",
        "\n",
        "if os.path.exists(file_path):\n",
        "    with open(file_path, 'r') as file:\n",
        "        content = file.read()\n",
        "        print(content)\n",
        "else:\n",
        "    print(f\"The file '{file_path}' does not exist.\")"
      ],
      "metadata": {
        "id": "DZBxR392R8bV"
      },
      "execution_count": null,
      "outputs": []
    },
    {
      "cell_type": "markdown",
      "source": [
        "14. Write a program that uses the logging module to log both informational and error messages"
      ],
      "metadata": {
        "id": "OGvt1mm7SAzU"
      }
    },
    {
      "cell_type": "code",
      "source": [
        "import logging\n",
        "\n",
        "# Configure logging\n",
        "logging.basicConfig(filename='app.log', level=logging.DEBUG, format='%(asctime)s - %(levelname)s - %(message)s')\n",
        "\n",
        "# Log an informational message\n",
        "logging.info(\"This is an informational message.\")\n",
        "\n",
        "# Simulate an error and log it\n",
        "try:\n",
        "    result = 10 / 0  # Division by zero to cause an error\n",
        "except ZeroDivisionError as e:\n",
        "    logging.error(\"An error occurred: %s\", e)\n",
        "\n",
        "# Log a warning message\n",
        "logging.warning(\"This is a warning message.\")"
      ],
      "metadata": {
        "colab": {
          "base_uri": "https://localhost:8080/"
        },
        "id": "4bJS4cmASFWH",
        "outputId": "8d11b036-19ac-45ab-f5e1-47e5e7eb43ab"
      },
      "execution_count": 9,
      "outputs": [
        {
          "output_type": "stream",
          "name": "stderr",
          "text": [
            "ERROR:root:An error occurred: division by zero\n",
            "WARNING:root:This is a warning message.\n"
          ]
        }
      ]
    },
    {
      "cell_type": "markdown",
      "source": [
        "15. Write a Python program that prints the content of a file and handles the case when the file is empty"
      ],
      "metadata": {
        "id": "jDVdTJ6wSLH9"
      }
    },
    {
      "cell_type": "code",
      "source": [
        "try:\n",
        "    # Open the file in read mode\n",
        "    with open('example.txt', 'r') as file:\n",
        "        content = file.read()\n",
        "\n",
        "    # Check if the file is empty\n",
        "    if content:\n",
        "        print(content)\n",
        "    else:\n",
        "        print(\"The file is empty.\")\n",
        "\n",
        "except FileNotFoundError:\n",
        "    print(\"The file does not exist.\")\n",
        "except IOError:\n",
        "    print(\"An error occurred while reading the file.\")"
      ],
      "metadata": {
        "colab": {
          "base_uri": "https://localhost:8080/"
        },
        "id": "BINm_u_GSRue",
        "outputId": "16781c13-8469-489f-c367-8523050e4dd4"
      },
      "execution_count": 10,
      "outputs": [
        {
          "output_type": "stream",
          "name": "stdout",
          "text": [
            "Hello, this is a sample text.\n"
          ]
        }
      ]
    },
    {
      "cell_type": "markdown",
      "source": [
        "16.  Demonstrate how to use memory profiling to check the memory usage of a small program"
      ],
      "metadata": {
        "id": "0BWQWyJ-SVSr"
      }
    },
    {
      "cell_type": "code",
      "source": [
        "# first we install the memory_profile .\n",
        "from memory_profiler import profile\n",
        "\n",
        "@profile\n",
        "def my_function():\n",
        "    a = [1] * (10 ** 6)  # Allocate a list with 1 million integers\n",
        "    b = [2] * (2 * 10 ** 7)  # Allocate a larger list\n",
        "    del b  # Deleting b to release memory\n",
        "    return a\n",
        "\n",
        "if __name__ == '__main__':\n",
        "    my_function()"
      ],
      "metadata": {
        "id": "7cUyzReXWOgV"
      },
      "execution_count": null,
      "outputs": []
    },
    {
      "cell_type": "markdown",
      "source": [
        "17. Write a Python program to create and write a list of numbers to a file, one number per line ?"
      ],
      "metadata": {
        "id": "T63Aif-yWXpn"
      }
    },
    {
      "cell_type": "code",
      "source": [
        "# List of numbers\n",
        "numbers = [1, 2, 3, 4, 5, 6, 7, 8, 9, 10]\n",
        "\n",
        "# Open the file in write mode\n",
        "with open('numbers.txt', 'w') as file:\n",
        "    for number in numbers:\n",
        "        file.write(f\"{number}\\n\")"
      ],
      "metadata": {
        "id": "L7jaEqQBWq73"
      },
      "execution_count": null,
      "outputs": []
    },
    {
      "cell_type": "markdown",
      "source": [
        "18. How would you implement a basic logging setup that logs to a file with rotation after 1MB"
      ],
      "metadata": {
        "id": "efaRV6o2Wtkh"
      }
    },
    {
      "cell_type": "code",
      "source": [
        "import logging\n",
        "from logging.handlers import RotatingFileHandler\n",
        "\n",
        "# Set up a rotating file handler\n",
        "handler = RotatingFileHandler('app.log', maxBytes=1e6, backupCount=3)  # 1MB file size limit, 3 backups\n",
        "handler.setLevel(logging.DEBUG)\n",
        "\n",
        "# Set up logging format\n",
        "formatter = logging.Formatter('%(asctime)s - %(levelname)s - %(message)s')\n",
        "handler.setFormatter(formatter)\n",
        "\n",
        "# Get the root logger and add the handler\n",
        "logger = logging.getLogger()\n",
        "logger.setLevel(logging.DEBUG)\n",
        "logger.addHandler(handler)\n",
        "\n",
        "# Example log messages\n",
        "logger.debug(\"This is a debug message.\")\n",
        "logger.info(\"This is an info message.\")\n",
        "logger.warning(\"This is a warning message.\")\n",
        "logger.error(\"This is an error message.\")\n",
        "logger.critical(\"This is a critical message.\")"
      ],
      "metadata": {
        "id": "HcXnrBYHW0MY"
      },
      "execution_count": null,
      "outputs": []
    },
    {
      "cell_type": "markdown",
      "source": [
        "19. Write a program that handles both IndexError and KeyError using a try-except block"
      ],
      "metadata": {
        "id": "jxvop8mnW27M"
      }
    },
    {
      "cell_type": "code",
      "source": [
        "# Sample data\n",
        "my_list = [1, 2, 3]\n",
        "my_dict = {\"name\": \"John\", \"age\": 30}\n",
        "\n",
        "# Try to access invalid index and key\n",
        "try:\n",
        "    # Accessing an invalid index in the list\n",
        "    print(my_list[5])  # This will raise an IndexError\n",
        "\n",
        "    # Accessing a non-existing key in the dictionary\n",
        "    print(my_dict[\"address\"])  # This will raise a KeyError\n",
        "\n",
        "except IndexError:\n",
        "    print(\"Error: Index out of range in the list.\")\n",
        "except KeyError:\n",
        "    print(\"Error: Key not found in the dictionary.\")"
      ],
      "metadata": {
        "id": "VJmcjWDlW71u"
      },
      "execution_count": null,
      "outputs": []
    },
    {
      "cell_type": "markdown",
      "source": [
        "20. How would you open a file and read its contents using a context manager in Python"
      ],
      "metadata": {
        "id": "M6NtYBzDXdsM"
      }
    },
    {
      "cell_type": "code",
      "source": [
        "# Using context manager to open and read the file\n",
        "with open('example.txt', 'r') as file:\n",
        "    content = file.read()  # Read the entire file content\n",
        "    print(content)  # Print the content of the file"
      ],
      "metadata": {
        "id": "fTxEWO8dXjqF"
      },
      "execution_count": null,
      "outputs": []
    },
    {
      "cell_type": "markdown",
      "source": [
        "21. Write a Python program that reads a file and prints the number of occurrences of a specific word"
      ],
      "metadata": {
        "id": "bML4ixceXn49"
      }
    },
    {
      "cell_type": "code",
      "source": [
        "# Function to count occurrences of a specific word in a file\n",
        "def count_word_occurrences(file_path, word):\n",
        "    try:\n",
        "        # Open the file using a context manager\n",
        "        with open(file_path, 'r') as file:\n",
        "            content = file.read()  # Read the entire file content\n",
        "\n",
        "        # Count occurrences of the word (case insensitive)\n",
        "        word_count = content.lower().split().count(word.lower())  # Split by whitespace and count the word\n",
        "        return word_count\n",
        "\n",
        "    except FileNotFoundError:\n",
        "        print(f\"The file '{file_path}' does not exist.\")\n",
        "        return 0\n",
        "    except IOError:\n",
        "        print(f\"An error occurred while reading the file.\")\n",
        "        return 0\n",
        "\n",
        "# Example usage\n",
        "file_path = 'example.txt'\n",
        "word = 'python'\n",
        "occurrences = count_word_occurrences(file_path, word)\n",
        "\n",
        "if occurrences > 0:\n",
        "    print(f\"The word '{word}' occurred {occurrences} times in the file.\")\n",
        "else:\n",
        "    print(f\"The word '{word}' was not found in the file.\")"
      ],
      "metadata": {
        "id": "viRtQ2NnXtDZ"
      },
      "execution_count": null,
      "outputs": []
    },
    {
      "cell_type": "markdown",
      "source": [
        "22. ow can you check if a file is empty before attempting to read its contents ?"
      ],
      "metadata": {
        "id": "JuhcfU8uXwQM"
      }
    },
    {
      "cell_type": "code",
      "source": [
        "import os\n",
        "\n",
        "def check_file_empty(file_path):\n",
        "    if os.path.getsize(file_path) == 0:\n",
        "        print(\"The file is empty.\")\n",
        "    else:\n",
        "        with open(file_path, 'r') as file:\n",
        "            content = file.read()\n",
        "            print(\"File content:\")\n",
        "            print(content)\n",
        "\n",
        "# Example usage\n",
        "file_path = 'example.txt'\n",
        "check_file_empty(file_path)"
      ],
      "metadata": {
        "id": "DyacmYnUX1ZA"
      },
      "execution_count": null,
      "outputs": []
    },
    {
      "cell_type": "markdown",
      "source": [
        "23. Write a Python program that writes to a log file when an error occurs during file handling"
      ],
      "metadata": {
        "id": "upWrWyiOX4AM"
      }
    },
    {
      "cell_type": "code",
      "source": [
        "import logging\n",
        "\n",
        "# Configure logging\n",
        "logging.basicConfig(filename='file_handling.log', level=logging.ERROR,\n",
        "                    format='%(asctime)s - %(levelname)s - %(message)s')\n",
        "\n",
        "def read_file(file_path):\n",
        "    try:\n",
        "        with open(file_path, 'r') as file:\n",
        "            content = file.read()\n",
        "            print(content)\n",
        "    except FileNotFoundError:\n",
        "        logging.error(f\"File '{file_path}' not found.\")\n",
        "        print(f\"Error: File '{file_path}' not found.\")\n",
        "    except IOError as e:\n",
        "        logging.error(f\"IO error occurred: {e}\")\n",
        "        print(f\"Error: An IO error occurred: {e}\")\n",
        "    except Exception as e:\n",
        "        logging.error(f\"Unexpected error: {e}\")\n",
        "        print(f\"Error: An unexpected error occurred: {e}\")\n",
        "\n",
        "def write_file(file_path, content):\n",
        "    try:\n",
        "        with open(file_path, 'w') as file:\n",
        "            file.write(content)\n",
        "            print(\"Content written to file.\")\n",
        "    except IOError as e:\n",
        "        logging.error(f\"IO error occurred while writing to '{file_path}': {e}\")\n",
        "        print(f\"Error: An IO error occurred while writing to '{file_path}': {e}\")\n",
        "    except Exception as e:\n",
        "        logging.error(f\"Unexpected error: {e}\")\n",
        "        print(f\"Error: An unexpected error occurred: {e}\")\n",
        "\n",
        "# Example usage\n",
        "read_file('non_existent_file.txt')\n",
        "write_file('output.txt', \"This is a test content.\")"
      ],
      "metadata": {
        "colab": {
          "base_uri": "https://localhost:8080/"
        },
        "id": "X2-nJR7aX7-v",
        "outputId": "35bea6d4-8eb3-4abe-c7dd-4a3e1ca4f7c6"
      },
      "execution_count": 11,
      "outputs": [
        {
          "output_type": "stream",
          "name": "stderr",
          "text": [
            "ERROR:root:File 'non_existent_file.txt' not found.\n"
          ]
        },
        {
          "output_type": "stream",
          "name": "stdout",
          "text": [
            "Error: File 'non_existent_file.txt' not found.\n",
            "Content written to file.\n"
          ]
        }
      ]
    },
    {
      "cell_type": "markdown",
      "source": [
        "# The End Of Assignment\n",
        "\n",
        "Thank you\n"
      ],
      "metadata": {
        "id": "OIRzOWOoYAv2"
      }
    }
  ]
}